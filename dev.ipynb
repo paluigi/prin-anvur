{
 "cells": [
  {
   "cell_type": "code",
   "execution_count": 41,
   "metadata": {},
   "outputs": [],
   "source": [
    "import re\n",
    "import time\n",
    "import pandas as pd\n",
    "import requests\n",
    "from bs4 import BeautifulSoup"
   ]
  },
  {
   "cell_type": "code",
   "execution_count": 2,
   "metadata": {},
   "outputs": [],
   "source": [
    "webpage = \"https://www.anvur.it/attivita/classificazione-delle-riviste/classificazione-delle-riviste-ai-fini-dellabilitazione-scientifica-nazionale/elenchi-di-riviste-scientifiche-e-di-classe-a/\""
   ]
  },
  {
   "cell_type": "code",
   "execution_count": 42,
   "metadata": {},
   "outputs": [],
   "source": [
    "headers = {\n",
    "    'User-Agent': 'Anvur Journal Acquisition',\n",
    "    \"Mail\": \"luigi.palumbo@unitus.it\"\n",
    "}"
   ]
  },
  {
   "cell_type": "code",
   "execution_count": 8,
   "metadata": {},
   "outputs": [],
   "source": [
    "with requests.get(webpage, headers=headers) as res:\n",
    "    response = BeautifulSoup(res.text, \"html.parser\")"
   ]
  },
  {
   "cell_type": "code",
   "execution_count": 35,
   "metadata": {},
   "outputs": [],
   "source": [
    "link_list = [\n",
    "    {\n",
    "        \"area\": item.get_text(strip=True),\n",
    "        \"filename\": item.get(\"href\").split(\"/\")[-1],\n",
    "        \"link\": item.get(\"href\")\n",
    "    }\n",
    "    for item in\n",
    "    response.find_all(\"a\", {\"href\": re.compile(\"pdf$\")})\n",
    "]"
   ]
  },
  {
   "cell_type": "code",
   "execution_count": 36,
   "metadata": {},
   "outputs": [],
   "source": [
    "link_classe_a = [\n",
    "    item for item\n",
    "    in link_list\n",
    "    if item.get(\"area\").endswith(\"classe A\")\n",
    "]"
   ]
  },
  {
   "cell_type": "code",
   "execution_count": 37,
   "metadata": {},
   "outputs": [],
   "source": [
    "link_scientifici = [\n",
    "    item for item\n",
    "    in link_list\n",
    "    if item not in link_classe_a\n",
    "]"
   ]
  },
  {
   "cell_type": "code",
   "execution_count": 38,
   "metadata": {},
   "outputs": [],
   "source": [
    "link_df = pd.DataFrame(link_list)"
   ]
  },
  {
   "cell_type": "code",
   "execution_count": 39,
   "metadata": {},
   "outputs": [],
   "source": [
    "link_df.to_csv(\"data/anvur_journals.csv\", index=False)"
   ]
  },
  {
   "cell_type": "code",
   "execution_count": 48,
   "metadata": {},
   "outputs": [],
   "source": [
    "for item in link_list:\n",
    "    time.sleep(2)\n",
    "    with requests.get(item.get(\"link\"), headers=headers) as res:\n",
    "        with open(\"data/{}\".format(item.get(\"filename\")), \"wb\") as f:\n",
    "            f.write(res.content)"
   ]
  },
  {
   "cell_type": "code",
   "execution_count": null,
   "metadata": {},
   "outputs": [],
   "source": []
  }
 ],
 "metadata": {
  "kernelspec": {
   "display_name": "anvur",
   "language": "python",
   "name": "python3"
  },
  "language_info": {
   "codemirror_mode": {
    "name": "ipython",
    "version": 3
   },
   "file_extension": ".py",
   "mimetype": "text/x-python",
   "name": "python",
   "nbconvert_exporter": "python",
   "pygments_lexer": "ipython3",
   "version": "3.11.6"
  }
 },
 "nbformat": 4,
 "nbformat_minor": 2
}
